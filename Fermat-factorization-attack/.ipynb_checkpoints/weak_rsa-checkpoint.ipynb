{
 "cells": [
  {
   "cell_type": "code",
   "execution_count": 5,
   "id": "70bbb0ef-efe0-4e3a-8b63-f08e857d3551",
   "metadata": {},
   "outputs": [],
   "source": [
    "from Crypto.Util.number import isPrime, getPrime\n",
    "from Crypto.PublicKey import RSA\n",
    "from secrets import randbits\n",
    "\n",
    "def keygen(bits):\n",
    "    e = 0x10001\n",
    "    p = getPrime(bits // 2)\n",
    "    q = p + 1\n",
    "    while not isPrime(q):\n",
    "        q += randbits(bits // 4)\n",
    "    n = p * q\n",
    "    phi = (p - 1) * (q - 1)\n",
    "    d = pow(e, -1, phi)\n",
    "    \n",
    "    private = RSA.construct((n, e, d))\n",
    "    public = RSA.construct((n, e))\n",
    "    return private.exportKey(), public.exportKey()\n",
    "\n",
    "private, public = keygen(2048)\n",
    "\n",
    "file = open(\"weak_key.pem\", \"wb\")\n",
    "file.write(private)\n",
    "file.close()"
   ]
  },
  {
   "cell_type": "markdown",
   "id": "9dc5096f-31f6-4b8d-ac47-be2015405235",
   "metadata": {},
   "source": [
    "#### Commands\n",
    "* `openssl req -key weak_key.pem -new -x509 -days 365 -out weak_certificate.crt`"
   ]
  }
 ],
 "metadata": {
  "kernelspec": {
   "display_name": "Python 3",
   "language": "python",
   "name": "python3"
  },
  "language_info": {
   "codemirror_mode": {
    "name": "ipython",
    "version": 3
   },
   "file_extension": ".py",
   "mimetype": "text/x-python",
   "name": "python",
   "nbconvert_exporter": "python",
   "pygments_lexer": "ipython3",
   "version": "3.8.15"
  }
 },
 "nbformat": 4,
 "nbformat_minor": 5
}
