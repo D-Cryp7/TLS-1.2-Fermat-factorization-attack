{
 "cells": [
  {
   "cell_type": "code",
   "execution_count": 1,
   "id": "c47fe1cc-04a5-4900-b39a-f3546d299b2b",
   "metadata": {
    "tags": []
   },
   "outputs": [
    {
     "name": "stdout",
     "output_type": "stream",
     "text": [
      "127238971967501282337384430289544566429136664331557789356397293393867049758905865211966911193602934472168061324877901455699958730801623553897534890705581241965391781414687309671015985336015826380009298325915650824202723367289869284525212869649075466436183751637010392551915830042187171840320868060751859229083 127238971967501282337384430289544566429136664331557789356397293393867049758905865211966911193602934472168061324877901455699958730801623553897534890705567086102101504623291263247344050881159735094048369518840206317051431158086612903117393016301362599734336040830266704265919224140891619793236887177791632113287\n"
     ]
    }
   ],
   "source": [
    "from Crypto.PublicKey import RSA\n",
    "from sage.all import isqrt, is_square, sqrt\n",
    "\n",
    "n = 0x00803f60d13e90aca6084c6962332a703a4c2f6593a640f7956931f9573c165ca0011d294bcbe028564f2cf7255ba7c803bdbe31755e60917d4669e80c5da820cf2857480ce075850f1a3ea68575bc134de55fa58bd3d2fda3c723080f224de59a710aee525a28e58f5ce374f9b230f39b8e7718862414141fd19630476288f1fe1ff9a3dd8de55c8562bca39bcf0998b12d3644521051459fe8a439677ee19878c847339a63972d091497a8c8d33dd2196c6cb2a2a5e4bc1aab50b31f36950ceac3b0dc60a3f799a095cbe5449471de58387868b60fde5abbd3b400930f3848c198ba8c71ff639473f2760c0b9ad5650dbef0273714d0effbf520afec8ad282bd\n",
    "a = isqrt(n) + 1\n",
    "while True:\n",
    "    b2 = pow(a, 2) - n\n",
    "    if is_square(b2):\n",
    "        b = sqrt(b2)\n",
    "        break\n",
    "    a = a + 1\n",
    "assert n == (a + b) * (a - b)\n",
    "p, q = int(a + b), int(a - b)\n",
    "print(p, q)"
   ]
  },
  {
   "cell_type": "code",
   "execution_count": 2,
   "id": "f88f40be-60e2-4a6a-a2e7-1da20bc29a2c",
   "metadata": {},
   "outputs": [],
   "source": [
    "n = p * q\n",
    "e = 0x10001\n",
    "phi = (p - 1) * (q - 1)\n",
    "d = pow(e, -1, phi)\n",
    "\n",
    "private = RSA.construct((n, e, d)).exportKey()\n",
    "file = open(\"recovered_weak_key.pem\", \"wb\")\n",
    "file.write(private)\n",
    "file.close()"
   ]
  }
 ],
 "metadata": {
  "kernelspec": {
   "display_name": "Python 3",
   "language": "python",
   "name": "python3"
  },
  "language_info": {
   "codemirror_mode": {
    "name": "ipython",
    "version": 3
   },
   "file_extension": ".py",
   "mimetype": "text/x-python",
   "name": "python",
   "nbconvert_exporter": "python",
   "pygments_lexer": "ipython3",
   "version": "3.8.15"
  }
 },
 "nbformat": 4,
 "nbformat_minor": 5
}
